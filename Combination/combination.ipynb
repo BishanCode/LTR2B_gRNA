{
 "cells": [
  {
   "cell_type": "markdown",
   "metadata": {},
   "source": [
    "Code to generate Total hits of gRNA "
   ]
  },
  {
   "cell_type": "code",
   "execution_count": null,
   "metadata": {},
   "outputs": [],
   "source": [
    "import os\n",
    "from Bio import SeqIO\n",
    "import pandas as pd\n",
    "\n",
    "# Define paths\n",
    "base_dir = \"Path/to/LTR2B_gRNA\"\n",
    "gRNA_fasta_path = os.path.join(base_dir, \"Files\", \"gRNA.fasta\")\n",
    "hg38_fasta_path = os.path.join(base_dir, \"Files\", \"hg38.fa\")\n",
    "output_sam_path = os.path.join(base_dir, \"Files\", \"alignment_gRNA.sam\")\n",
    "\n",
    "# Step 3: Parse the SAM file to count the hits for each gRNA\n",
    "def count_hits(sam_file):\n",
    "    hit_counts = {}\n",
    "    with open(sam_file, 'r') as f:\n",
    "        for line in f:\n",
    "            if line.startswith('@'):  # Skip header lines\n",
    "                continue\n",
    "            fields = line.split(\"\\t\")\n",
    "            gRNA_name = fields[0]  # QNAME field\n",
    "            if gRNA_name in hit_counts:\n",
    "                hit_counts[gRNA_name] += 1\n",
    "            else:\n",
    "                hit_counts[gRNA_name] = 1\n",
    "    return hit_counts\n",
    "\n",
    "# Step 4: Map gRNA names to sequences from the FASTA file\n",
    "def map_gRNA_names_to_sequences(fasta_file):\n",
    "    gRNA_map = {}\n",
    "    for record in SeqIO.parse(fasta_file, \"fasta\"):\n",
    "        gRNA_map[record.id] = str(record.seq)\n",
    "    return gRNA_map\n",
    "\n",
    "# Check if the SAM file exists\n",
    "if not os.path.exists(output_sam_path):\n",
    "    raise FileNotFoundError(f\"{output_sam_path} does not exist. Ensure you have run the alignment step.\")\n",
    "\n",
    "# Count the hits\n",
    "gRNA_hits = count_hits(output_sam_path)\n",
    "\n",
    "# Map gRNA names to sequences\n",
    "gRNA_sequences = map_gRNA_names_to_sequences(gRNA_fasta_path)\n",
    "\n",
    "# Replace gRNA names with sequences in the hits data\n",
    "gRNA_hits_with_sequences = {gRNA_sequences[gRNA_name]: hit_count for gRNA_name, hit_count in gRNA_hits.items() if gRNA_name in gRNA_sequences}\n",
    "\n",
    "# Step 5: Display the results\n",
    "gRNA_hits_df = pd.DataFrame(list(gRNA_hits_with_sequences.items()), columns=['gRNA Sequence', 'Hit Count'])\n",
    "gRNA_hits_df = gRNA_hits_df.sort_values(by='Hit Count', ascending=False)\n",
    "\n",
    "# Display the result\n",
    "print(gRNA_hits_df)\n",
    "\n",
    "# Save the result to a CSV file\n",
    "gRNA_hits_df.to_csv(os.path.join(base_dir, \"Files\", 'gRNA_hits_summary.csv'), index=False)\n",
    "\n",
    "print(\"gRNA hits summary saved to gRNA_hits_summary.csv\")\n"
   ]
  },
  {
   "cell_type": "markdown",
   "metadata": {},
   "source": [
    "First edit alignment_match_counts.txt for no same hits and then to compare vs overall hits to get offtargets %"
   ]
  },
  {
   "cell_type": "code",
   "execution_count": 12,
   "metadata": {},
   "outputs": [
    {
     "name": "stdout",
     "output_type": "stream",
     "text": [
      "Cleaned data saved to C:/Users/Bisha/Desktop/cleaned_alignment_match_counts.txt\n"
     ]
    }
   ],
   "source": [
    "import pandas as pd\n",
    "\n",
    "# Load the data from the file\n",
    "file_path = 'C:/Users/Bisha/Desktop/LTR2B_gRNA/Files/alignment_match_counts.txt'\n",
    "data = pd.read_csv(file_path, sep='\\t', header=None, names=['Sequence', 'Matches'])\n",
    "\n",
    "# Remove duplicates\n",
    "cleaned_data = data.drop_duplicates()\n",
    "\n",
    "# Save the cleaned data to a new file\n",
    "cleaned_file_path = 'C:/Users/Bisha/Desktop/LTR2B_gRNA/Files/cleaned_alignment_match_counts.txt'\n",
    "cleaned_data.to_csv(cleaned_file_path, sep='\\t', index=False, header=False)\n",
    "\n",
    "print(f\"Cleaned data saved to {cleaned_file_path}\")\n"
   ]
  }
 ],
 "metadata": {
  "kernelspec": {
   "display_name": "Python 3",
   "language": "python",
   "name": "python3"
  },
  "language_info": {
   "codemirror_mode": {
    "name": "ipython",
    "version": 3
   },
   "file_extension": ".py",
   "mimetype": "text/x-python",
   "name": "python",
   "nbconvert_exporter": "python",
   "pygments_lexer": "ipython3",
   "version": "3.11.7"
  }
 },
 "nbformat": 4,
 "nbformat_minor": 2
}
